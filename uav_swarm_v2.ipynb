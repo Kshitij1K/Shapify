{
 "cells": [
  {
   "cell_type": "code",
   "execution_count": 2,
   "id": "01df8cd4",
   "metadata": {},
   "outputs": [
    {
     "name": "stderr",
     "output_type": "stream",
     "text": [
      "\u001b[32m\u001b[1m  Activating\u001b[22m\u001b[39m environment at `C:\\Users\\athar\\Desktop\\CMU-20220824T151321Z-001\\Assignments\\OCRL\\Task2\\HW2_S23-main\\HW2_S23-main\\Project.toml`\n"
     ]
    }
   ],
   "source": [
    "\n",
    "import Pkg\n",
    "Pkg.activate(@__DIR__)\n",
    "Pkg.instantiate()\n",
    "using LinearAlgebra, Plots\n",
    "import ForwardDiff as FD\n",
    "import MeshCat as mc \n",
    "# using JLD2\n",
    "using Test\n",
    "using Random\n",
    "import Convex as cvx \n",
    "import ECOS \n",
    "using ProgressMeter\n",
    "\n",
    "\n"
   ]
  },
  {
   "cell_type": "code",
   "execution_count": 3,
   "id": "c1aad4ae",
   "metadata": {},
   "outputs": [
    {
     "data": {
      "text/plain": [
       "animate_quadrotor (generic function with 1 method)"
      ]
     },
     "execution_count": 3,
     "metadata": {},
     "output_type": "execute_result"
    }
   ],
   "source": [
    "include(joinpath(@__DIR__, \"utils\",\"quadrotor.jl\"))"
   ]
  },
  {
   "cell_type": "code",
   "execution_count": 4,
   "id": "3d787883",
   "metadata": {},
   "outputs": [
    {
     "data": {
      "text/plain": [
       "convex_mpc_controller_full (generic function with 1 method)"
      ]
     },
     "execution_count": 4,
     "metadata": {},
     "output_type": "execute_result"
    }
   ],
   "source": [
    "function get_jacobians(model, xg, ug)\n",
    "    \n",
    "    A = FD.jacobian(_x -> rk4(model,dynamics,_x,ug,model.dt), xg)\n",
    "    B = FD.jacobian(_u -> rk4(model,dynamics,xg,_u,model.dt), ug)\n",
    "    return A, B\n",
    "end\n",
    "\n",
    "function vec_from_mat(Xm::Matrix)::Vector{Vector{Float64}}\n",
    "    # convert a matrix into a vector of vectors \n",
    "    X = [Xm[:,i] for i = 1:size(Xm,2)]\n",
    "    return X \n",
    "end\n",
    "\n",
    "\n",
    "function convex_mpc_controller_full(model,params,x0,idx)\n",
    "\n",
    "    N, Q, R = params.N, params.Q, params.R\n",
    "\n",
    "    # get slice of the relevant trajectories for the N_mpc window\n",
    "#     X̄    =    params.X̄[idx:(idx + N_mpc - 1)]\n",
    "#     Ū    =    params.Ū[idx:(idx + N_mpc - 2)]\n",
    "    Xref = params.Xref #[idx:(idx + N_mpc - 1)]\n",
    "    Uref = params.Uref #[idx:(idx + N_mpc - 2)]\n",
    "    \n",
    "    # create variables \n",
    "    X = cvx.Variable(params.nx,N)\n",
    "    U = cvx.Variable(params.nu,N - 1)\n",
    "\n",
    "    # cost function (tracking cost on Xref, Uref)\n",
    "    cost = 0.0\n",
    "    for i = 1:N-1\n",
    "#         cost += 0.5*cvx.quadform(X[:,i] - Xref[i], Q)\n",
    "        cost += 0.5*cvx.quadform(X[:,i], Q)\n",
    "    end\n",
    "    for i = 1:(N - 1)\n",
    "#         \n",
    "        cost += 0.5*cvx.quadform(U[:,i], R)\n",
    "    end\n",
    "     xn = X[:,N]\n",
    "    cost += 0.5*cvx.quadform(xn,5*Q)\n",
    "    prob = cvx.minimize(cost)\n",
    "\n",
    "    # initial condition constraint\n",
    "    prob.constraints += X[:,1] == x0\n",
    "\n",
    "    # dynamics constraints\n",
    "    A,B = get_jacobians(model, Xref, Uref)\n",
    "    for i = 1:(N-1)\n",
    "#         \n",
    "        prob.constraints += X[:,i+1] == rk4(model, dynamics, Xref, Uref, params.dt) + A*(X[:,i]) + B*(U[:,i])\n",
    "#         prob.constraints += X[:,i+1] == A*(X[:,i] - Xref) + B*(U[:,i] - Uref)\n",
    "       \n",
    "    end\n",
    "\n",
    "    cvx.solve!(prob, ECOS.Optimizer; silent_solver = true)\n",
    "\n",
    "#     U = U.value\n",
    "    X = vec_from_mat(X.value) \n",
    "    U = vec_from_mat(U.value) \n",
    "    \n",
    "    \n",
    "#     return vec(U[:,1])\n",
    "    return X, U\n",
    "end"
   ]
  },
  {
   "cell_type": "code",
   "execution_count": 5,
   "id": "2befa2c3",
   "metadata": {},
   "outputs": [
    {
     "data": {
      "text/plain": [
       "fhlqr (generic function with 1 method)"
      ]
     },
     "execution_count": 5,
     "metadata": {},
     "output_type": "execute_result"
    }
   ],
   "source": [
    "function fhlqr(A::Matrix, # A matrix \n",
    "               B::Matrix, # B matrix \n",
    "               Q::Matrix, # cost weight \n",
    "               R::Matrix, # cost weight \n",
    "               Qf::Matrix,# term cost weight \n",
    "               N::Int64   # horizon size \n",
    "               )::Tuple{Vector{Matrix{Float64}}, Vector{Matrix{Float64}}} # return two matrices \n",
    "        \n",
    "    # check sizes of everything \n",
    "    nx,nu = size(B)\n",
    "    @assert size(A) == (nx, nx)\n",
    "    @assert size(Q) == (nx, nx)\n",
    "    @assert size(R) == (nu, nu)\n",
    "    @assert size(Qf) == (nx, nx)\n",
    "        \n",
    "    # instantiate S and K \n",
    "    P = [zeros(nx,nx) for i = 1:N]\n",
    "    K = [zeros(nu,nx) for i = 1:N-1]\n",
    "    \n",
    "    # initialize S[N] with Qf \n",
    "    P[N] = deepcopy(Qf)\n",
    "    \n",
    "    # Ricatti \n",
    "    #for k = NaN:NaN\n",
    "#     for k = (N-1):-1:1\n",
    "\n",
    "        \n",
    "#     K[k] .= (R + B'*P[k+1]*B)\\(B'*P[k+1]*A)\n",
    "       \n",
    "#     P[k] .= Q + A'*P[k+1]*(A-B*K[k])\n",
    "#     end\n",
    "\n",
    "    for k = N-1:-1:1\n",
    "        # TODO \n",
    "        P_k = P[k]\n",
    "        K_k = K[k]\n",
    "        \n",
    "        \n",
    "        K_k .= inv(R + transpose(B)*P[k+1]*B)*transpose(B)*P[k+1]*A\n",
    "        P_k .= Q + transpose(A)*P[k+1]*(A - B*K_k)\n",
    "        \n",
    "    end\n",
    "    #P = vec_from_mat(P)\n",
    "    #K = vec_from_mat(K)\n",
    "    \n",
    "    return P, K \n",
    "end"
   ]
  },
  {
   "cell_type": "code",
   "execution_count": 6,
   "id": "09ef9ce9",
   "metadata": {},
   "outputs": [
    {
     "name": "stdout",
     "output_type": "stream",
     "text": [
      "x0 = [-4.0 1.0 -5.0 -2.0; -3.0 5.0 1.0 -2.0; 1.2 1.2 1.2 1.2; 0.0 0.0 0.0 0.0; 0.0 0.0 0.0 0.0; 0.0 0.0 0.0 0.0; 0.0 0.0 0.0 0.0; 0.0 0.0 0.0 0.0; 0.0 0.0 0.0 0.0; 0.0 0.0 0.0 0.0; 0.0 0.0 0.0 0.0; 0.0 0.0 0.0 0.0]\n",
      "range = [-5, -4, -3, -2, -1, 1, 2, 3, 4, 5]\n",
      "Xref = [3.125 2.0 1.125 0.5; -5.0 -4.0 -3.0 -2.0; 5.2 5.2 5.2 5.2; 0.0 0.0 0.0 0.0; 0.0 0.0 0.0 0.0; 0.0 0.0 0.0 0.0; 0.0 0.0 0.0 0.0; 0.0 0.0 0.0 0.0; 0.0 0.0 0.0 0.0; 0.0 0.0 0.0 0.0; 0.0 0.0 0.0 0.0; 0.0 0.0 0.0 0.0]\n",
      "size(Xsim) = (100, 4)\n"
     ]
    },
    {
     "name": "stderr",
     "output_type": "stream",
     "text": [
      "\u001b[36m\u001b[1m┌ \u001b[22m\u001b[39m\u001b[36m\u001b[1mInfo: \u001b[22m\u001b[39mMeshCat server started. You can open the visualizer by visiting the following URL in your browser:\n",
      "\u001b[36m\u001b[1m└ \u001b[22m\u001b[39mhttp://127.0.0.1:8700\n"
     ]
    },
    {
     "data": {
      "text/html": [
       "    <div style=\"height: 500px; width: 100%; overflow-x: auto; overflow-y: hidden; resize: both\">\n",
       "    <iframe src=\"http://127.0.0.1:8700\" style=\"width: 100%; height: 100%; border: none\"></iframe>\n",
       "    </div>\n"
      ],
      "text/plain": [
       "MeshCat.DisplayedVisualizer(MeshCat.CoreVisualizer(MeshCat.SceneTrees.SceneNode(nothing, nothing, Dict{String, Vector{UInt8}}(), UInt8[0x83, 0xa7, 0x6f, 0x70, 0x74, 0x69, 0x6f, 0x6e, 0x73, 0x82  …  0x5f, 0x61, 0x6e, 0x69, 0x6d, 0x61, 0x74, 0x69, 0x6f, 0x6e], Dict{String, MeshCat.SceneTrees.SceneNode}(\"meshcat\" => MeshCat.SceneTrees.SceneNode(nothing, nothing, Dict{String, Vector{UInt8}}(), nothing, Dict{String, MeshCat.SceneTrees.SceneNode}(\"drone4\" => MeshCat.SceneTrees.SceneNode(UInt8[0x83, 0xa6, 0x6f, 0x62, 0x6a, 0x65, 0x63, 0x74, 0x84, 0xaa  …  0x63, 0x61, 0x74, 0x2f, 0x64, 0x72, 0x6f, 0x6e, 0x65, 0x34], nothing, Dict{String, Vector{UInt8}}(), nothing, Dict{String, MeshCat.SceneTrees.SceneNode}()), \"drone1\" => MeshCat.SceneTrees.SceneNode(UInt8[0x83, 0xa6, 0x6f, 0x62, 0x6a, 0x65, 0x63, 0x74, 0x84, 0xaa  …  0x63, 0x61, 0x74, 0x2f, 0x64, 0x72, 0x6f, 0x6e, 0x65, 0x31], nothing, Dict{String, Vector{UInt8}}(), nothing, Dict{String, MeshCat.SceneTrees.SceneNode}()), \"drone2\" => MeshCat.SceneTrees.SceneNode(UInt8[0x83, 0xa6, 0x6f, 0x62, 0x6a, 0x65, 0x63, 0x74, 0x84, 0xaa  …  0x63, 0x61, 0x74, 0x2f, 0x64, 0x72, 0x6f, 0x6e, 0x65, 0x32], nothing, Dict{String, Vector{UInt8}}(), nothing, Dict{String, MeshCat.SceneTrees.SceneNode}()), \"drone3\" => MeshCat.SceneTrees.SceneNode(UInt8[0x83, 0xa6, 0x6f, 0x62, 0x6a, 0x65, 0x63, 0x74, 0x84, 0xaa  …  0x63, 0x61, 0x74, 0x2f, 0x64, 0x72, 0x6f, 0x6e, 0x65, 0x33], nothing, Dict{String, Vector{UInt8}}(), nothing, Dict{String, MeshCat.SceneTrees.SceneNode}()))))), Set{Any}(), ip\"127.0.0.1\", 8700))"
      ]
     },
     "metadata": {},
     "output_type": "display_data"
    }
   ],
   "source": [
    "let\n",
    "\n",
    "    \n",
    "    # dynamics parameters\n",
    "    nx = 12\n",
    "    nu = 4\n",
    "    N = 100\n",
    "    dt = 0.1\n",
    "    number = 4 \n",
    "    \n",
    "    x0 = zeros((12, number))\n",
    "\n",
    "    for i = 1: number \n",
    "       x0[:,i] = [rand(-5:5);rand(-5:5);1.2;0;0;0.0;zeros(6)]  \n",
    "    end \n",
    "    @show x0\n",
    "#    \n",
    "    Q = 10*diagm(ones(nx))\n",
    "    R = .1*diagm(ones(nu))\n",
    "\n",
    "    model = (mass=0.5,\n",
    "            J=Diagonal([0.0023, 0.0023, 0.004]),\n",
    "            gravity=[0,0,-9.81],\n",
    "            L=0.1750,\n",
    "            kf=1.0,\n",
    "            km=0.0245,dt = dt)\n",
    "\n",
    " # for staright line \n",
    "    \n",
    "    Xref = zeros((12, number))\n",
    "    Uref = (9.81*0.5/4)*ones(nu)\n",
    "    range = [-5,-4,-3,-2,-1,1,2,3,4,5]\n",
    "    @show range\n",
    "    \n",
    "    for i = 1: number \n",
    "#        Xref[:,i] = [0;rand(-7:7);5.2;0;0;0.0;zeros(6)]\n",
    "        \n",
    "        Xref[:,i] = [0;range[i];5.2;0;0;0.0;zeros(6)]\n",
    "        Xref[1,i] = (Xref[2,i]*Xref[2,i])/8\n",
    "    end \n",
    "#     \n",
    "    @show Xref\n",
    "    N_mpc = N\n",
    "\n",
    "    u_min = zeros(nu)\n",
    "    u_max = 10*ones(nu)\n",
    "    x_min = -1e3*ones(nx)\n",
    "    x_max = 1e3*ones(nx)\n",
    "    \n",
    "    N_sim = N\n",
    "    \n",
    "    Xsim1 =[deepcopy(x0[:,1]) for i = 1:N_sim] \n",
    "    Xsim2 =[deepcopy(x0[:,2]) for i = 1:N_sim]\n",
    "    Xsim3 =[deepcopy(x0[:,3]) for i = 1:N_sim]\n",
    "    Xsim4 =[deepcopy(x0[:,4]) for i = 1:N_sim]\n",
    "#     Xsim5 =[deepcopy(x0[:,5]) for i = 1:N_sim]\n",
    "#     Xsim6 =[deepcopy(x0[:,6]) for i = 1:N_sim]\n",
    "#     Xsim7 =[deepcopy(x0[:,7]) for i = 1:N_sim]\n",
    "#     Xsim8 =[deepcopy(x0[:,8]) for i = 1:N_sim]\n",
    "#     Xsim9 =[deepcopy(x0[:,9]) for i = 1:N_sim]\n",
    "#     Xsim10 =[deepcopy(x0[:,10]) for i = 1:N_sim]\n",
    "    Xsim = [Xsim1 Xsim2 Xsim3 Xsim4] # Xsim5 Xsim6 Xsim7 Xsim8 Xsim9 Xsim10]\n",
    "     \n",
    "#     \n",
    "    @show size(Xsim)\n",
    "    params = (N = N, dt = dt, Q = Q, R = R, Xref = Xref, Uref = Uref,#idx = idx,\n",
    "        x_min = x_min, x_max = x_max, u_min = u_min, u_max = u_max,nx = nx, nu = nu)\n",
    "    \n",
    "    for idx = 1:number\n",
    "        params = (N = N, dt = dt, Q = Q, R = R, Xref = Xref[:,idx], Uref = Uref,#idx = idx,\n",
    "        x_min = x_min, x_max = x_max, u_min = u_min, u_max = u_max,nx = nx, nu = nu)\n",
    "        \n",
    "        X_pair = Xsim\n",
    "        Usim = [zeros(2) for i = 1:(N_sim-1)]\n",
    "        \n",
    "#         Xcvx,Ucvx = convex_mpc_controller_full(model,params,Xsim[1,idx],idx)\n",
    "        A,B = get_jacobians(model, Xref[:,idx], Uref)\n",
    "        P, K = fhlqr(A,B,Q,R,5*Q,N)\n",
    "        \n",
    "        for k = 1:N-1\n",
    "        \n",
    "#         Xsim[k+1,idx] = rk4(model, dynamics, Xsim[k,idx], Ucvx[k], dt)\n",
    "        u_lqr = - K[k]*(Xsim[k,idx] - Xref[:,idx])\n",
    "        Xsim[k+1,idx] = rk4(model, dynamics, Xsim[k,idx], u_lqr, dt)\n",
    "#         @show Xsim[k+1,idx]\n",
    "        end \n",
    "#         @showprogress \"simulating\" for i = 1:(N_sim-1)\n",
    "#             Usim[i] = convex_mpc_controller_full(model,params,Xsim[i,idx],i)\n",
    "# #     \n",
    "#             Xsim[i+1, idx] = rk4(model, dynamics, Xsim[i,idx], Usim[i], dt)\n",
    "# #                 \n",
    "#         end\n",
    "    end\n",
    "    \n",
    "    X_sim_new = [zeros(12 * number) for i = 1:N_sim]\n",
    "    \n",
    "    \n",
    "    for i = 1:(N_sim-1)\n",
    "        X_sim_new[i] = [Xsim[i, 1]; Xsim[i, 2]; Xsim[i, 3]; Xsim[i, 4]] # ; Xsim[i,5]; Xsim[i,6] ; Xsim[i,7]; Xsim[i,8]; Xsim[i,9];Xsim[i,10]]\n",
    "#         @show Xsim[i, 1]\n",
    "#        \n",
    "    end\n",
    "    \n",
    "    display(animate_quadrotor(number, X_sim_new, params.dt))\n",
    "\n",
    "end\n"
   ]
  },
  {
   "cell_type": "code",
   "execution_count": null,
   "id": "60890e31",
   "metadata": {},
   "outputs": [],
   "source": []
  },
  {
   "cell_type": "code",
   "execution_count": null,
   "id": "b86fb584",
   "metadata": {},
   "outputs": [],
   "source": []
  }
 ],
 "metadata": {
  "kernelspec": {
   "display_name": "Julia 1.6.7",
   "language": "julia",
   "name": "julia-1.6"
  },
  "language_info": {
   "file_extension": ".jl",
   "mimetype": "application/julia",
   "name": "julia",
   "version": "1.6.7"
  }
 },
 "nbformat": 4,
 "nbformat_minor": 5
}
